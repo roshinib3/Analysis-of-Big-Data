{
  "nbformat": 4,
  "nbformat_minor": 0,
  "metadata": {
    "kernelspec": {
      "display_name": "Python 3",
      "language": "python",
      "name": "python3"
    },
    "language_info": {
      "codemirror_mode": {
        "name": "ipython",
        "version": 3
      },
      "file_extension": ".py",
      "mimetype": "text/x-python",
      "name": "python",
      "nbconvert_exporter": "python",
      "pygments_lexer": "ipython3",
      "version": "3.7.4"
    },
    "colab": {
      "name": "ProstateCancer.ipynb",
      "provenance": [],
      "collapsed_sections": [],
      "toc_visible": true
    }
  },
  "cells": [
    {
      "cell_type": "markdown",
      "metadata": {
        "id": "DMoUB-fHemVb",
        "colab_type": "text"
      },
      "source": [
        "# Prostate Cancer Analysis\n",
        "Data from Stamey et al. (1989), observing Radical Prostatectomy Treated Patients.\n"
      ]
    },
    {
      "cell_type": "code",
      "metadata": {
        "id": "1sLU9VtNdkWI",
        "colab_type": "code",
        "colab": {}
      },
      "source": [
        "import pandas as pd\n",
        "import numpy as np\n",
        "import matplotlib as plt\n",
        "from sklearn.linear_model import LinearRegression\n",
        "from sklearn.linear_model import Ridge\n",
        "from sklearn.model_selection import GridSearchCV\n",
        "import matplotlib.pyplot as plt"
      ],
      "execution_count": 1,
      "outputs": []
    },
    {
      "cell_type": "markdown",
      "metadata": {
        "id": "wk6_eD51gJ92",
        "colab_type": "text"
      },
      "source": [
        "### Import Dataset"
      ]
    },
    {
      "cell_type": "code",
      "metadata": {
        "id": "2_ul4-N5dkWb",
        "colab_type": "code",
        "colab": {
          "base_uri": "https://localhost:8080/",
          "height": 204
        },
        "outputId": "9c0c58d2-4009-4924-ef7c-795eebd80430"
      },
      "source": [
        "df = pd.read_csv('prostate.data', sep='\\t')\n",
        "df = df.drop(df.columns[0], axis = 1)\n",
        "df.head()"
      ],
      "execution_count": 2,
      "outputs": [
        {
          "output_type": "execute_result",
          "data": {
            "text/html": [
              "<div>\n",
              "<style scoped>\n",
              "    .dataframe tbody tr th:only-of-type {\n",
              "        vertical-align: middle;\n",
              "    }\n",
              "\n",
              "    .dataframe tbody tr th {\n",
              "        vertical-align: top;\n",
              "    }\n",
              "\n",
              "    .dataframe thead th {\n",
              "        text-align: right;\n",
              "    }\n",
              "</style>\n",
              "<table border=\"1\" class=\"dataframe\">\n",
              "  <thead>\n",
              "    <tr style=\"text-align: right;\">\n",
              "      <th></th>\n",
              "      <th>lcavol</th>\n",
              "      <th>lweight</th>\n",
              "      <th>age</th>\n",
              "      <th>lbph</th>\n",
              "      <th>svi</th>\n",
              "      <th>lcp</th>\n",
              "      <th>gleason</th>\n",
              "      <th>pgg45</th>\n",
              "      <th>lpsa</th>\n",
              "      <th>train</th>\n",
              "    </tr>\n",
              "  </thead>\n",
              "  <tbody>\n",
              "    <tr>\n",
              "      <th>0</th>\n",
              "      <td>-0.579818</td>\n",
              "      <td>2.769459</td>\n",
              "      <td>50</td>\n",
              "      <td>-1.386294</td>\n",
              "      <td>0</td>\n",
              "      <td>-1.386294</td>\n",
              "      <td>6</td>\n",
              "      <td>0</td>\n",
              "      <td>-0.430783</td>\n",
              "      <td>T</td>\n",
              "    </tr>\n",
              "    <tr>\n",
              "      <th>1</th>\n",
              "      <td>-0.994252</td>\n",
              "      <td>3.319626</td>\n",
              "      <td>58</td>\n",
              "      <td>-1.386294</td>\n",
              "      <td>0</td>\n",
              "      <td>-1.386294</td>\n",
              "      <td>6</td>\n",
              "      <td>0</td>\n",
              "      <td>-0.162519</td>\n",
              "      <td>T</td>\n",
              "    </tr>\n",
              "    <tr>\n",
              "      <th>2</th>\n",
              "      <td>-0.510826</td>\n",
              "      <td>2.691243</td>\n",
              "      <td>74</td>\n",
              "      <td>-1.386294</td>\n",
              "      <td>0</td>\n",
              "      <td>-1.386294</td>\n",
              "      <td>7</td>\n",
              "      <td>20</td>\n",
              "      <td>-0.162519</td>\n",
              "      <td>T</td>\n",
              "    </tr>\n",
              "    <tr>\n",
              "      <th>3</th>\n",
              "      <td>-1.203973</td>\n",
              "      <td>3.282789</td>\n",
              "      <td>58</td>\n",
              "      <td>-1.386294</td>\n",
              "      <td>0</td>\n",
              "      <td>-1.386294</td>\n",
              "      <td>6</td>\n",
              "      <td>0</td>\n",
              "      <td>-0.162519</td>\n",
              "      <td>T</td>\n",
              "    </tr>\n",
              "    <tr>\n",
              "      <th>4</th>\n",
              "      <td>0.751416</td>\n",
              "      <td>3.432373</td>\n",
              "      <td>62</td>\n",
              "      <td>-1.386294</td>\n",
              "      <td>0</td>\n",
              "      <td>-1.386294</td>\n",
              "      <td>6</td>\n",
              "      <td>0</td>\n",
              "      <td>0.371564</td>\n",
              "      <td>T</td>\n",
              "    </tr>\n",
              "  </tbody>\n",
              "</table>\n",
              "</div>"
            ],
            "text/plain": [
              "     lcavol   lweight  age      lbph  ...  gleason  pgg45      lpsa  train\n",
              "0 -0.579818  2.769459   50 -1.386294  ...        6      0 -0.430783      T\n",
              "1 -0.994252  3.319626   58 -1.386294  ...        6      0 -0.162519      T\n",
              "2 -0.510826  2.691243   74 -1.386294  ...        7     20 -0.162519      T\n",
              "3 -1.203973  3.282789   58 -1.386294  ...        6      0 -0.162519      T\n",
              "4  0.751416  3.432373   62 -1.386294  ...        6      0  0.371564      T\n",
              "\n",
              "[5 rows x 10 columns]"
            ]
          },
          "metadata": {
            "tags": []
          },
          "execution_count": 2
        }
      ]
    },
    {
      "cell_type": "markdown",
      "metadata": {
        "id": "ii_FnWwngutL",
        "colab_type": "text"
      },
      "source": [
        "Columns 1-8 are predictors: log cancer volume (lcavol), log prostate\n",
        "weight (lweight), age, log of the amount of benign prostatic hyperplasia\n",
        "(lbph), seminal vesicle invasion (svi), log of capsular penetration (lcp),\n",
        "Gleason score (gleason), and percent of Gleason scores 4 or 5 (pgg45).\n",
        "\n",
        "Column 9 is the outcome: log prostate specific antigen (lpsa).\n",
        "\n",
        "I ignored Column 10 in this analysis."
      ]
    },
    {
      "cell_type": "code",
      "metadata": {
        "id": "TSDOSNMZgfYr",
        "colab_type": "code",
        "colab": {
          "base_uri": "https://localhost:8080/",
          "height": 297
        },
        "outputId": "cc97bcaf-1fbe-4002-d97e-de0c6daa1d49"
      },
      "source": [
        "df.describe()"
      ],
      "execution_count": 3,
      "outputs": [
        {
          "output_type": "execute_result",
          "data": {
            "text/html": [
              "<div>\n",
              "<style scoped>\n",
              "    .dataframe tbody tr th:only-of-type {\n",
              "        vertical-align: middle;\n",
              "    }\n",
              "\n",
              "    .dataframe tbody tr th {\n",
              "        vertical-align: top;\n",
              "    }\n",
              "\n",
              "    .dataframe thead th {\n",
              "        text-align: right;\n",
              "    }\n",
              "</style>\n",
              "<table border=\"1\" class=\"dataframe\">\n",
              "  <thead>\n",
              "    <tr style=\"text-align: right;\">\n",
              "      <th></th>\n",
              "      <th>lcavol</th>\n",
              "      <th>lweight</th>\n",
              "      <th>age</th>\n",
              "      <th>lbph</th>\n",
              "      <th>svi</th>\n",
              "      <th>lcp</th>\n",
              "      <th>gleason</th>\n",
              "      <th>pgg45</th>\n",
              "      <th>lpsa</th>\n",
              "    </tr>\n",
              "  </thead>\n",
              "  <tbody>\n",
              "    <tr>\n",
              "      <th>count</th>\n",
              "      <td>97.000000</td>\n",
              "      <td>97.000000</td>\n",
              "      <td>97.000000</td>\n",
              "      <td>97.000000</td>\n",
              "      <td>97.000000</td>\n",
              "      <td>97.000000</td>\n",
              "      <td>97.000000</td>\n",
              "      <td>97.000000</td>\n",
              "      <td>97.000000</td>\n",
              "    </tr>\n",
              "    <tr>\n",
              "      <th>mean</th>\n",
              "      <td>1.350010</td>\n",
              "      <td>3.628943</td>\n",
              "      <td>63.865979</td>\n",
              "      <td>0.100356</td>\n",
              "      <td>0.216495</td>\n",
              "      <td>-0.179366</td>\n",
              "      <td>6.752577</td>\n",
              "      <td>24.381443</td>\n",
              "      <td>2.478387</td>\n",
              "    </tr>\n",
              "    <tr>\n",
              "      <th>std</th>\n",
              "      <td>1.178625</td>\n",
              "      <td>0.428411</td>\n",
              "      <td>7.445117</td>\n",
              "      <td>1.450807</td>\n",
              "      <td>0.413995</td>\n",
              "      <td>1.398250</td>\n",
              "      <td>0.722134</td>\n",
              "      <td>28.204035</td>\n",
              "      <td>1.154329</td>\n",
              "    </tr>\n",
              "    <tr>\n",
              "      <th>min</th>\n",
              "      <td>-1.347074</td>\n",
              "      <td>2.374906</td>\n",
              "      <td>41.000000</td>\n",
              "      <td>-1.386294</td>\n",
              "      <td>0.000000</td>\n",
              "      <td>-1.386294</td>\n",
              "      <td>6.000000</td>\n",
              "      <td>0.000000</td>\n",
              "      <td>-0.430783</td>\n",
              "    </tr>\n",
              "    <tr>\n",
              "      <th>25%</th>\n",
              "      <td>0.512824</td>\n",
              "      <td>3.375880</td>\n",
              "      <td>60.000000</td>\n",
              "      <td>-1.386294</td>\n",
              "      <td>0.000000</td>\n",
              "      <td>-1.386294</td>\n",
              "      <td>6.000000</td>\n",
              "      <td>0.000000</td>\n",
              "      <td>1.731656</td>\n",
              "    </tr>\n",
              "    <tr>\n",
              "      <th>50%</th>\n",
              "      <td>1.446919</td>\n",
              "      <td>3.623007</td>\n",
              "      <td>65.000000</td>\n",
              "      <td>0.300105</td>\n",
              "      <td>0.000000</td>\n",
              "      <td>-0.798508</td>\n",
              "      <td>7.000000</td>\n",
              "      <td>15.000000</td>\n",
              "      <td>2.591516</td>\n",
              "    </tr>\n",
              "    <tr>\n",
              "      <th>75%</th>\n",
              "      <td>2.127041</td>\n",
              "      <td>3.876396</td>\n",
              "      <td>68.000000</td>\n",
              "      <td>1.558145</td>\n",
              "      <td>0.000000</td>\n",
              "      <td>1.178655</td>\n",
              "      <td>7.000000</td>\n",
              "      <td>40.000000</td>\n",
              "      <td>3.056357</td>\n",
              "    </tr>\n",
              "    <tr>\n",
              "      <th>max</th>\n",
              "      <td>3.821004</td>\n",
              "      <td>4.780383</td>\n",
              "      <td>79.000000</td>\n",
              "      <td>2.326302</td>\n",
              "      <td>1.000000</td>\n",
              "      <td>2.904165</td>\n",
              "      <td>9.000000</td>\n",
              "      <td>100.000000</td>\n",
              "      <td>5.582932</td>\n",
              "    </tr>\n",
              "  </tbody>\n",
              "</table>\n",
              "</div>"
            ],
            "text/plain": [
              "          lcavol    lweight        age  ...    gleason       pgg45       lpsa\n",
              "count  97.000000  97.000000  97.000000  ...  97.000000   97.000000  97.000000\n",
              "mean    1.350010   3.628943  63.865979  ...   6.752577   24.381443   2.478387\n",
              "std     1.178625   0.428411   7.445117  ...   0.722134   28.204035   1.154329\n",
              "min    -1.347074   2.374906  41.000000  ...   6.000000    0.000000  -0.430783\n",
              "25%     0.512824   3.375880  60.000000  ...   6.000000    0.000000   1.731656\n",
              "50%     1.446919   3.623007  65.000000  ...   7.000000   15.000000   2.591516\n",
              "75%     2.127041   3.876396  68.000000  ...   7.000000   40.000000   3.056357\n",
              "max     3.821004   4.780383  79.000000  ...   9.000000  100.000000   5.582932\n",
              "\n",
              "[8 rows x 9 columns]"
            ]
          },
          "metadata": {
            "tags": []
          },
          "execution_count": 3
        }
      ]
    },
    {
      "cell_type": "markdown",
      "metadata": {
        "id": "MiunPVj4jUnp",
        "colab_type": "text"
      },
      "source": [
        "### Scatterplots of the log of PSA against each of the eight clinical measures"
      ]
    },
    {
      "cell_type": "code",
      "metadata": {
        "id": "0LXnHUqhdkWr",
        "colab_type": "code",
        "colab": {
          "base_uri": "https://localhost:8080/",
          "height": 188
        },
        "outputId": "96e0c2db-d4b6-4e3f-df5f-86f5784b19ca"
      },
      "source": [
        "plt.figure(figsize = (16,2))\n",
        "plt.subplot(181)\n",
        "plt.xlabel('lcavol')\n",
        "plt.ylabel('lpsa')\n",
        "plt.scatter(y=df['lpsa'], x=df['lcavol'])\n",
        "\n",
        "plt.subplot(182)\n",
        "plt.xlabel('lweight')\n",
        "plt.scatter(y= df[\"lpsa\"], x=df['lweight'])\n",
        "\n",
        "plt.subplot(183)\n",
        "plt.xlabel('age')\n",
        "plt.scatter(y= df[\"lpsa\"], x=df['age'])\n",
        "\n",
        "plt.subplot(184)\n",
        "plt.xlabel('lbph')\n",
        "plt.scatter(y= df[\"lpsa\"], x=df['lbph'])\n",
        "\n",
        "plt.subplot(185)\n",
        "plt.xlabel('svi')\n",
        "plt.scatter(y= df[\"lpsa\"], x=df['svi'])\n",
        "\n",
        "plt.subplot(186)\n",
        "plt.xlabel('lcp')\n",
        "plt.scatter(y= df[\"lpsa\"], x=df['lcp'])\n",
        "\n",
        "plt.subplot(187)\n",
        "plt.xlabel('gleason')\n",
        "plt.scatter(y= df[\"lpsa\"], x=df['gleason'])\n",
        "\n",
        "plt.subplot(188)\n",
        "plt.xlabel('pgg45')\n",
        "plt.scatter(y= df[\"lpsa\"], x=df['pgg45'])"
      ],
      "execution_count": 4,
      "outputs": [
        {
          "output_type": "execute_result",
          "data": {
            "text/plain": [
              "<matplotlib.collections.PathCollection at 0x7f48b5c23940>"
            ]
          },
          "metadata": {
            "tags": []
          },
          "execution_count": 4
        },
        {
          "output_type": "display_data",
          "data": {
            "image/png": "[encoded data removed]",
            "text/plain": [
              "<Figure size 1152x144 with 8 Axes>"
            ]
          },
          "metadata": {
            "tags": [],
            "needs_background": "light"
          }
        }
      ]
    },
    {
      "cell_type": "markdown",
      "metadata": {
        "id": "4D7FWML5t1Ng",
        "colab_type": "text"
      },
      "source": [
        "### Split into training and testing data"
      ]
    },
    {
      "cell_type": "code",
      "metadata": {
        "id": "wJqQt4-PdkW4",
        "colab_type": "code",
        "colab": {}
      },
      "source": [
        "# attributes stored in X.\n",
        "X = df[['lcavol', 'lweight', 'age', 'lbph', 'svi', 'lcp', 'gleason', 'pgg45']]\n",
        "\n",
        "# outcome stored in y\n",
        "y = df['lpsa']\n",
        "\n",
        "# Randomly choose a training set of size 67 and a test size of 30\n",
        "from sklearn.model_selection import train_test_split\n",
        "X_train, X_test, y_train, y_test = train_test_split(X, y, test_size=0.30)"
      ],
      "execution_count": 5,
      "outputs": []
    },
    {
      "cell_type": "markdown",
      "metadata": {
        "id": "9nYga7kyuE8w",
        "colab_type": "text"
      },
      "source": [
        "### Fit a linear model and calculate error"
      ]
    },
    {
      "cell_type": "code",
      "metadata": {
        "id": "IQLpptIJt8OW",
        "colab_type": "code",
        "colab": {
          "base_uri": "https://localhost:8080/",
          "height": 111
        },
        "outputId": "25081b89-400a-431a-ef5b-8f66c3ffed64"
      },
      "source": [
        "# normalize the predictors to each have unit variance\n",
        "sd = X_train.std(axis=0)\n",
        "X_train_norm = X_train/sd\n",
        "X_train_norm.std(axis=0)   # sd of each regressor is 1\n",
        "X_train_norm.mean(axis=0)  # mean has not been changed\n",
        "\n",
        "# fit the model using multivariate linear regression\n",
        "reg_norm = LinearRegression().fit(X_train_norm, y_train)\n",
        "reg_norm.coef_\n",
        "\n",
        "# resulting estimates for the coefficients\n",
        "coeff_norm = pd.DataFrame([df.columns[0:8], reg_norm.coef_])  \n",
        "coeff_norm"
      ],
      "execution_count": 6,
      "outputs": [
        {
          "output_type": "execute_result",
          "data": {
            "text/html": [
              "<div>\n",
              "<style scoped>\n",
              "    .dataframe tbody tr th:only-of-type {\n",
              "        vertical-align: middle;\n",
              "    }\n",
              "\n",
              "    .dataframe tbody tr th {\n",
              "        vertical-align: top;\n",
              "    }\n",
              "\n",
              "    .dataframe thead th {\n",
              "        text-align: right;\n",
              "    }\n",
              "</style>\n",
              "<table border=\"1\" class=\"dataframe\">\n",
              "  <thead>\n",
              "    <tr style=\"text-align: right;\">\n",
              "      <th></th>\n",
              "      <th>0</th>\n",
              "      <th>1</th>\n",
              "      <th>2</th>\n",
              "      <th>3</th>\n",
              "      <th>4</th>\n",
              "      <th>5</th>\n",
              "      <th>6</th>\n",
              "      <th>7</th>\n",
              "    </tr>\n",
              "  </thead>\n",
              "  <tbody>\n",
              "    <tr>\n",
              "      <th>0</th>\n",
              "      <td>lcavol</td>\n",
              "      <td>lweight</td>\n",
              "      <td>age</td>\n",
              "      <td>lbph</td>\n",
              "      <td>svi</td>\n",
              "      <td>lcp</td>\n",
              "      <td>gleason</td>\n",
              "      <td>pgg45</td>\n",
              "    </tr>\n",
              "    <tr>\n",
              "      <th>1</th>\n",
              "      <td>0.711016</td>\n",
              "      <td>0.337305</td>\n",
              "      <td>-0.215884</td>\n",
              "      <td>0.156272</td>\n",
              "      <td>0.253684</td>\n",
              "      <td>-0.180005</td>\n",
              "      <td>0.1096</td>\n",
              "      <td>0.14292</td>\n",
              "    </tr>\n",
              "  </tbody>\n",
              "</table>\n",
              "</div>"
            ],
            "text/plain": [
              "          0         1         2         3         4         5        6        7\n",
              "0    lcavol   lweight       age      lbph       svi       lcp  gleason    pgg45\n",
              "1  0.711016  0.337305 -0.215884  0.156272  0.253684 -0.180005   0.1096  0.14292"
            ]
          },
          "metadata": {
            "tags": []
          },
          "execution_count": 6
        }
      ]
    },
    {
      "cell_type": "code",
      "metadata": {
        "id": "mcQfcI6kdkXk",
        "colab_type": "code",
        "colab": {
          "base_uri": "https://localhost:8080/",
          "height": 34
        },
        "outputId": "41d5ede1-2cb4-4c35-fe1a-1035be57c371"
      },
      "source": [
        "# predict on test data\n",
        "y_pred_norm = reg_norm.predict(X_test)\n",
        "\n",
        "# check difference between actual and predicted for L2 error (sum of squared)\n",
        "squared_errors_norm = (y_pred_norm - y_test) ** 2\n",
        "sse_norm =  np.sum(squared_errors_norm)\n",
        "sse_norm"
      ],
      "execution_count": 7,
      "outputs": [
        {
          "output_type": "execute_result",
          "data": {
            "text/plain": [
              "3382.340914842198"
            ]
          },
          "metadata": {
            "tags": []
          },
          "execution_count": 7
        }
      ]
    },
    {
      "cell_type": "code",
      "metadata": {
        "id": "KB9yIva1dkXo",
        "colab_type": "code",
        "colab": {
          "base_uri": "https://localhost:8080/",
          "height": 34
        },
        "outputId": "60e1985e-8211-4926-b614-626abdb84128"
      },
      "source": [
        "# linear model score on training\n",
        "reg_norm.score(X_train_norm, y_train)"
      ],
      "execution_count": 8,
      "outputs": [
        {
          "output_type": "execute_result",
          "data": {
            "text/plain": [
              "0.6865467477025375"
            ]
          },
          "metadata": {
            "tags": []
          },
          "execution_count": 8
        }
      ]
    },
    {
      "cell_type": "code",
      "metadata": {
        "id": "Jnb66xLQdkXs",
        "colab_type": "code",
        "colab": {
          "base_uri": "https://localhost:8080/",
          "height": 34
        },
        "outputId": "1a61b279-0691-457e-cc11-a985a6bf0b5a"
      },
      "source": [
        "# linear model score on testing\n",
        "reg_norm.score(X_test, y_test)"
      ],
      "execution_count": 9,
      "outputs": [
        {
          "output_type": "execute_result",
          "data": {
            "text/plain": [
              "-100.56102798038377"
            ]
          },
          "metadata": {
            "tags": []
          },
          "execution_count": 9
        }
      ]
    },
    {
      "cell_type": "markdown",
      "metadata": {
        "id": "4TjRdTL3uY-j",
        "colab_type": "text"
      },
      "source": [
        "### Fit L2-regularized linear model"
      ]
    },
    {
      "cell_type": "code",
      "metadata": {
        "id": "rbe6vnd9dkXz",
        "colab_type": "code",
        "colab": {}
      },
      "source": [
        "# ridge regression via ten-fold cross-validation\n",
        "ridgeReg = Ridge()\n",
        "alphas = np.linspace(1e-12, 100 , 5)\n",
        "tunedParameters = {'alpha':alphas}\n",
        "cvEstimator = GridSearchCV(ridgeReg, tunedParameters, cv=10, refit=True)\n",
        "cvEstimator.fit(X_train_norm,y_train)\n",
        "ridgeBest = cvEstimator.best_estimator_\n",
        "alphaBest = cvEstimator.best_params_['alpha']"
      ],
      "execution_count": 10,
      "outputs": []
    },
    {
      "cell_type": "code",
      "metadata": {
        "id": "fVxM-mLYvMa6",
        "colab_type": "code",
        "colab": {
          "base_uri": "https://localhost:8080/",
          "height": 34
        },
        "outputId": "0c3e5dfe-f16e-430c-fa3e-3a6b100d9e83"
      },
      "source": [
        "# ridge CV L2 error\n",
        "y_pred_cv = ridgeBest.predict(X_test)\n",
        "\n",
        "squared_errors = (y_pred_cv - y_test) ** 2\n",
        "sse_cv =  np.sum(squared_errors)\n",
        "sse_cv"
      ],
      "execution_count": 11,
      "outputs": [
        {
          "output_type": "execute_result",
          "data": {
            "text/plain": [
              "254.39711531423927"
            ]
          },
          "metadata": {
            "tags": []
          },
          "execution_count": 11
        }
      ]
    },
    {
      "cell_type": "code",
      "metadata": {
        "id": "H4M47tOQdkX5",
        "colab_type": "code",
        "colab": {
          "base_uri": "https://localhost:8080/",
          "height": 34
        },
        "outputId": "056cdf2e-a4db-44db-d04b-cde2910437c0"
      },
      "source": [
        "# ridge CV score on training\n",
        "ridgeBest.score(X_train_norm, y_train)"
      ],
      "execution_count": 12,
      "outputs": [
        {
          "output_type": "execute_result",
          "data": {
            "text/plain": [
              "0.6016502191863636"
            ]
          },
          "metadata": {
            "tags": []
          },
          "execution_count": 12
        }
      ]
    },
    {
      "cell_type": "code",
      "metadata": {
        "id": "tQvlrAh7dkX-",
        "colab_type": "code",
        "colab": {
          "base_uri": "https://localhost:8080/",
          "height": 34
        },
        "outputId": "272f25b9-3356-4d1e-c616-7f5e324b6d08"
      },
      "source": [
        "# ridge CV score on test\n",
        "ridgeBest.score(X_test, y_test)"
      ],
      "execution_count": 13,
      "outputs": [
        {
          "output_type": "execute_result",
          "data": {
            "text/plain": [
              "-6.638742869822092"
            ]
          },
          "metadata": {
            "tags": []
          },
          "execution_count": 13
        }
      ]
    },
    {
      "cell_type": "code",
      "metadata": {
        "id": "uD5w8CMbdkYI",
        "colab_type": "code",
        "colab": {}
      },
      "source": [
        "# choose parameters for ridge regression via AIC\n",
        "\n",
        "from math import log\n",
        "n = len(X_train_norm)\n",
        "\n",
        "alphas = np.linspace(1e-12, 0.2 , 50)\n",
        "min_val = 1000\n",
        "min_alpha = 0\n",
        "for i in alphas:\n",
        "    ridge = Ridge(alpha = i)\n",
        "    ridge.fit(X_train_norm, y_train)\n",
        "    ridge.get_params()\n",
        "    \n",
        "    # Find SSE\n",
        "    y_pred_AIC = ridge.fit(X_train_norm, y_train).predict(X_test)\n",
        "    sse_AIC = np.sum((y_pred_AIC - y_test) **2)\n",
        "    \n",
        "    \n",
        "    S = (X_train_norm.dot(np.linalg.inv((X_train_norm.transpose().dot(X_train_norm) + i * np.identity(len(X_train_norm.columns)))))).values.dot(X_train_norm.transpose())\n",
        "    degf = S.trace()\n",
        "\n",
        "    AIC = ((2/n) * degf) + log(sse_AIC / (n - degf))\n",
        "    \n",
        "    if (AIC < min_val):\n",
        "        min_val = AIC\n",
        "        min_alpha = i\n",
        "\n",
        "ridge = Ridge(alpha = min_alpha)\n",
        "regrAic = ridge.fit(X_train_norm, y_train)"
      ],
      "execution_count": 14,
      "outputs": []
    },
    {
      "cell_type": "code",
      "metadata": {
        "id": "A8R-RAqMdkYM",
        "colab_type": "code",
        "colab": {
          "base_uri": "https://localhost:8080/",
          "height": 34
        },
        "outputId": "8f7b9fc7-2426-4bde-c0c0-7bb1a7ee98cf"
      },
      "source": [
        "# ridge AIC score on training\n",
        "regrAic.score(X_train_norm, y_train)"
      ],
      "execution_count": 15,
      "outputs": [
        {
          "output_type": "execute_result",
          "data": {
            "text/plain": [
              "0.6865350214394128"
            ]
          },
          "metadata": {
            "tags": []
          },
          "execution_count": 15
        }
      ]
    },
    {
      "cell_type": "code",
      "metadata": {
        "id": "hDjAoeswdkYP",
        "colab_type": "code",
        "colab": {
          "base_uri": "https://localhost:8080/",
          "height": 34
        },
        "outputId": "0a3796e9-6460-4246-8211-263bcdc5d1cf"
      },
      "source": [
        "# ridge AIC score on testing\n",
        "regrAic.score(X_test, y_test)"
      ],
      "execution_count": 16,
      "outputs": [
        {
          "output_type": "execute_result",
          "data": {
            "text/plain": [
              "-98.67967583244437"
            ]
          },
          "metadata": {
            "tags": []
          },
          "execution_count": 16
        }
      ]
    },
    {
      "cell_type": "code",
      "metadata": {
        "id": "8OW8CCiYdkYT",
        "colab_type": "code",
        "colab": {
          "base_uri": "https://localhost:8080/",
          "height": 111
        },
        "outputId": "cbb9a146-723c-4e4f-bf49-c4049d16e54b"
      },
      "source": [
        "# coefficient estimates using ridge regression via cross-validation\n",
        "pd.DataFrame([df.columns[0:8], ridgeBest.coef_])  "
      ],
      "execution_count": 17,
      "outputs": [
        {
          "output_type": "execute_result",
          "data": {
            "text/html": [
              "<div>\n",
              "<style scoped>\n",
              "    .dataframe tbody tr th:only-of-type {\n",
              "        vertical-align: middle;\n",
              "    }\n",
              "\n",
              "    .dataframe tbody tr th {\n",
              "        vertical-align: top;\n",
              "    }\n",
              "\n",
              "    .dataframe thead th {\n",
              "        text-align: right;\n",
              "    }\n",
              "</style>\n",
              "<table border=\"1\" class=\"dataframe\">\n",
              "  <thead>\n",
              "    <tr style=\"text-align: right;\">\n",
              "      <th></th>\n",
              "      <th>0</th>\n",
              "      <th>1</th>\n",
              "      <th>2</th>\n",
              "      <th>3</th>\n",
              "      <th>4</th>\n",
              "      <th>5</th>\n",
              "      <th>6</th>\n",
              "      <th>7</th>\n",
              "    </tr>\n",
              "  </thead>\n",
              "  <tbody>\n",
              "    <tr>\n",
              "      <th>0</th>\n",
              "      <td>lcavol</td>\n",
              "      <td>lweight</td>\n",
              "      <td>age</td>\n",
              "      <td>lbph</td>\n",
              "      <td>svi</td>\n",
              "      <td>lcp</td>\n",
              "      <td>gleason</td>\n",
              "      <td>pgg45</td>\n",
              "    </tr>\n",
              "    <tr>\n",
              "      <th>1</th>\n",
              "      <td>0.348993</td>\n",
              "      <td>0.220641</td>\n",
              "      <td>-0.0438749</td>\n",
              "      <td>0.0979874</td>\n",
              "      <td>0.173109</td>\n",
              "      <td>0.0945364</td>\n",
              "      <td>0.0812774</td>\n",
              "      <td>0.0840123</td>\n",
              "    </tr>\n",
              "  </tbody>\n",
              "</table>\n",
              "</div>"
            ],
            "text/plain": [
              "          0         1          2  ...          5          6          7\n",
              "0    lcavol   lweight        age  ...        lcp    gleason      pgg45\n",
              "1  0.348993  0.220641 -0.0438749  ...  0.0945364  0.0812774  0.0840123\n",
              "\n",
              "[2 rows x 8 columns]"
            ]
          },
          "metadata": {
            "tags": []
          },
          "execution_count": 17
        }
      ]
    },
    {
      "cell_type": "code",
      "metadata": {
        "id": "E9G_z4vJdkYX",
        "colab_type": "code",
        "colab": {
          "base_uri": "https://localhost:8080/",
          "height": 111
        },
        "outputId": "864ca7bf-2c20-4474-816a-7691ce52ee57"
      },
      "source": [
        "# coefficient estimates using ridge regression via information criteria\n",
        "pd.DataFrame([df.columns[0:8], regrAic.coef_])  "
      ],
      "execution_count": 18,
      "outputs": [
        {
          "output_type": "execute_result",
          "data": {
            "text/html": [
              "<div>\n",
              "<style scoped>\n",
              "    .dataframe tbody tr th:only-of-type {\n",
              "        vertical-align: middle;\n",
              "    }\n",
              "\n",
              "    .dataframe tbody tr th {\n",
              "        vertical-align: top;\n",
              "    }\n",
              "\n",
              "    .dataframe thead th {\n",
              "        text-align: right;\n",
              "    }\n",
              "</style>\n",
              "<table border=\"1\" class=\"dataframe\">\n",
              "  <thead>\n",
              "    <tr style=\"text-align: right;\">\n",
              "      <th></th>\n",
              "      <th>0</th>\n",
              "      <th>1</th>\n",
              "      <th>2</th>\n",
              "      <th>3</th>\n",
              "      <th>4</th>\n",
              "      <th>5</th>\n",
              "      <th>6</th>\n",
              "      <th>7</th>\n",
              "    </tr>\n",
              "  </thead>\n",
              "  <tbody>\n",
              "    <tr>\n",
              "      <th>0</th>\n",
              "      <td>lcavol</td>\n",
              "      <td>lweight</td>\n",
              "      <td>age</td>\n",
              "      <td>lbph</td>\n",
              "      <td>svi</td>\n",
              "      <td>lcp</td>\n",
              "      <td>gleason</td>\n",
              "      <td>pgg45</td>\n",
              "    </tr>\n",
              "    <tr>\n",
              "      <th>1</th>\n",
              "      <td>0.706756</td>\n",
              "      <td>0.336579</td>\n",
              "      <td>-0.213497</td>\n",
              "      <td>0.15596</td>\n",
              "      <td>0.252242</td>\n",
              "      <td>-0.17407</td>\n",
              "      <td>0.108886</td>\n",
              "      <td>0.141096</td>\n",
              "    </tr>\n",
              "  </tbody>\n",
              "</table>\n",
              "</div>"
            ],
            "text/plain": [
              "          0         1         2        3         4        5         6         7\n",
              "0    lcavol   lweight       age     lbph       svi      lcp   gleason     pgg45\n",
              "1  0.706756  0.336579 -0.213497  0.15596  0.252242 -0.17407  0.108886  0.141096"
            ]
          },
          "metadata": {
            "tags": []
          },
          "execution_count": 18
        }
      ]
    },
    {
      "cell_type": "markdown",
      "metadata": {
        "id": "t3pqxMIjv77j",
        "colab_type": "text"
      },
      "source": [
        "### Fit L1-regularized linear model"
      ]
    },
    {
      "cell_type": "code",
      "metadata": {
        "id": "q7g_uHBbdkYa",
        "colab_type": "code",
        "colab": {}
      },
      "source": [
        "# fit the model with LASSO by cross-validation\n",
        "from sklearn.linear_model import Lasso\n",
        "\n",
        "regLasso = Lasso()\n",
        "alphas = np.linspace(1e-12, 50, 50)\n",
        "tunedParameters = {'alpha':alphas}\n",
        "cvEstimator = GridSearchCV(regLasso, tunedParameters, cv=10, refit=True)\n",
        "cvEstimator.fit(X_train_norm, y_train)\n",
        "lassoBest = cvEstimator.best_estimator_\n",
        "alphaBest = cvEstimator.best_params_['alpha']"
      ],
      "execution_count": 19,
      "outputs": []
    },
    {
      "cell_type": "code",
      "metadata": {
        "id": "ni2nbsAodkYe",
        "colab_type": "code",
        "colab": {}
      },
      "source": [
        "# fit the model with LASSO by AIC Information Criterion\n",
        "from sklearn.linear_model import LassoLarsIC\n",
        "lasso_aic = LassoLarsIC(criterion='aic')\n",
        "lassoAic = lasso_aic.fit(X_train, y_train)"
      ],
      "execution_count": 20,
      "outputs": []
    },
    {
      "cell_type": "code",
      "metadata": {
        "id": "T1VoGaeWdkYi",
        "colab_type": "code",
        "colab": {
          "base_uri": "https://localhost:8080/",
          "height": 111
        },
        "outputId": "d047a5ec-950e-4ed8-b1f6-d151df768944"
      },
      "source": [
        "# coefficient estimates using LASSON via cross-validation\n",
        "pd.DataFrame([df.columns[0:8], lassoBest.coef_])  "
      ],
      "execution_count": 21,
      "outputs": [
        {
          "output_type": "execute_result",
          "data": {
            "text/html": [
              "<div>\n",
              "<style scoped>\n",
              "    .dataframe tbody tr th:only-of-type {\n",
              "        vertical-align: middle;\n",
              "    }\n",
              "\n",
              "    .dataframe tbody tr th {\n",
              "        vertical-align: top;\n",
              "    }\n",
              "\n",
              "    .dataframe thead th {\n",
              "        text-align: right;\n",
              "    }\n",
              "</style>\n",
              "<table border=\"1\" class=\"dataframe\">\n",
              "  <thead>\n",
              "    <tr style=\"text-align: right;\">\n",
              "      <th></th>\n",
              "      <th>0</th>\n",
              "      <th>1</th>\n",
              "      <th>2</th>\n",
              "      <th>3</th>\n",
              "      <th>4</th>\n",
              "      <th>5</th>\n",
              "      <th>6</th>\n",
              "      <th>7</th>\n",
              "    </tr>\n",
              "  </thead>\n",
              "  <tbody>\n",
              "    <tr>\n",
              "      <th>0</th>\n",
              "      <td>lcavol</td>\n",
              "      <td>lweight</td>\n",
              "      <td>age</td>\n",
              "      <td>lbph</td>\n",
              "      <td>svi</td>\n",
              "      <td>lcp</td>\n",
              "      <td>gleason</td>\n",
              "      <td>pgg45</td>\n",
              "    </tr>\n",
              "    <tr>\n",
              "      <th>1</th>\n",
              "      <td>0.711016</td>\n",
              "      <td>0.337305</td>\n",
              "      <td>-0.215884</td>\n",
              "      <td>0.156272</td>\n",
              "      <td>0.253684</td>\n",
              "      <td>-0.180005</td>\n",
              "      <td>0.1096</td>\n",
              "      <td>0.14292</td>\n",
              "    </tr>\n",
              "  </tbody>\n",
              "</table>\n",
              "</div>"
            ],
            "text/plain": [
              "          0         1         2         3         4         5        6        7\n",
              "0    lcavol   lweight       age      lbph       svi       lcp  gleason    pgg45\n",
              "1  0.711016  0.337305 -0.215884  0.156272  0.253684 -0.180005   0.1096  0.14292"
            ]
          },
          "metadata": {
            "tags": []
          },
          "execution_count": 21
        }
      ]
    },
    {
      "cell_type": "code",
      "metadata": {
        "id": "dEcsExumdkYn",
        "colab_type": "code",
        "colab": {
          "base_uri": "https://localhost:8080/",
          "height": 34
        },
        "outputId": "a26da198-7bac-420b-b908-649e307e6245"
      },
      "source": [
        "# LASSO CV score on training\n",
        "lassoBest.score(X_train_norm,y_train)"
      ],
      "execution_count": 22,
      "outputs": [
        {
          "output_type": "execute_result",
          "data": {
            "text/plain": [
              "0.6865467477025375"
            ]
          },
          "metadata": {
            "tags": []
          },
          "execution_count": 22
        }
      ]
    },
    {
      "cell_type": "code",
      "metadata": {
        "id": "JdlM5g6MdkYr",
        "colab_type": "code",
        "colab": {
          "base_uri": "https://localhost:8080/",
          "height": 34
        },
        "outputId": "bfdcf663-3075-4dce-b28a-ed8c8c445645"
      },
      "source": [
        "# LASSO CV score on testing\n",
        "lassoBest.score(X_test,y_test)"
      ],
      "execution_count": 23,
      "outputs": [
        {
          "output_type": "execute_result",
          "data": {
            "text/plain": [
              "-100.56102797761805"
            ]
          },
          "metadata": {
            "tags": []
          },
          "execution_count": 23
        }
      ]
    },
    {
      "cell_type": "code",
      "metadata": {
        "id": "xvHnFAw0dkYv",
        "colab_type": "code",
        "colab": {
          "base_uri": "https://localhost:8080/",
          "height": 111
        },
        "outputId": "3d0026f8-0a1f-470b-ddde-67ef230ce426"
      },
      "source": [
        "# coefficient estimates using LASSO via information criteria\n",
        "pd.DataFrame([df.columns[0:8], lassoAic.coef_]) "
      ],
      "execution_count": 24,
      "outputs": [
        {
          "output_type": "execute_result",
          "data": {
            "text/html": [
              "<div>\n",
              "<style scoped>\n",
              "    .dataframe tbody tr th:only-of-type {\n",
              "        vertical-align: middle;\n",
              "    }\n",
              "\n",
              "    .dataframe tbody tr th {\n",
              "        vertical-align: top;\n",
              "    }\n",
              "\n",
              "    .dataframe thead th {\n",
              "        text-align: right;\n",
              "    }\n",
              "</style>\n",
              "<table border=\"1\" class=\"dataframe\">\n",
              "  <thead>\n",
              "    <tr style=\"text-align: right;\">\n",
              "      <th></th>\n",
              "      <th>0</th>\n",
              "      <th>1</th>\n",
              "      <th>2</th>\n",
              "      <th>3</th>\n",
              "      <th>4</th>\n",
              "      <th>5</th>\n",
              "      <th>6</th>\n",
              "      <th>7</th>\n",
              "    </tr>\n",
              "  </thead>\n",
              "  <tbody>\n",
              "    <tr>\n",
              "      <th>0</th>\n",
              "      <td>lcavol</td>\n",
              "      <td>lweight</td>\n",
              "      <td>age</td>\n",
              "      <td>lbph</td>\n",
              "      <td>svi</td>\n",
              "      <td>lcp</td>\n",
              "      <td>gleason</td>\n",
              "      <td>pgg45</td>\n",
              "    </tr>\n",
              "    <tr>\n",
              "      <th>1</th>\n",
              "      <td>0.530066</td>\n",
              "      <td>0.476641</td>\n",
              "      <td>0</td>\n",
              "      <td>0</td>\n",
              "      <td>0.246502</td>\n",
              "      <td>0</td>\n",
              "      <td>0</td>\n",
              "      <td>0</td>\n",
              "    </tr>\n",
              "  </tbody>\n",
              "</table>\n",
              "</div>"
            ],
            "text/plain": [
              "          0         1    2     3         4    5        6      7\n",
              "0    lcavol   lweight  age  lbph       svi  lcp  gleason  pgg45\n",
              "1  0.530066  0.476641    0     0  0.246502    0        0      0"
            ]
          },
          "metadata": {
            "tags": []
          },
          "execution_count": 24
        }
      ]
    },
    {
      "cell_type": "code",
      "metadata": {
        "id": "s7ll_zqjdkYy",
        "colab_type": "code",
        "colab": {
          "base_uri": "https://localhost:8080/",
          "height": 34
        },
        "outputId": "3a6280fe-3d90-451c-ce8e-29c5da7023de"
      },
      "source": [
        "# LASSO AIC score on training\n",
        "lassoAic.score(X_train_norm, y_train)"
      ],
      "execution_count": 25,
      "outputs": [
        {
          "output_type": "execute_result",
          "data": {
            "text/plain": [
              "-2.5324141247074365"
            ]
          },
          "metadata": {
            "tags": []
          },
          "execution_count": 25
        }
      ]
    },
    {
      "cell_type": "code",
      "metadata": {
        "id": "NhCgC-IddkY2",
        "colab_type": "code",
        "colab": {
          "base_uri": "https://localhost:8080/",
          "height": 34
        },
        "outputId": "caa3635b-5ebe-460c-eff7-cec82a3cce80"
      },
      "source": [
        "# LASSO AIC score on testing\n",
        "lassoAic.score(X_test, y_test)"
      ],
      "execution_count": 26,
      "outputs": [
        {
          "output_type": "execute_result",
          "data": {
            "text/plain": [
              "0.5969666816898411"
            ]
          },
          "metadata": {
            "tags": []
          },
          "execution_count": 26
        }
      ]
    },
    {
      "cell_type": "markdown",
      "metadata": {
        "id": "cRQq517TxPi6",
        "colab_type": "text"
      },
      "source": [
        "With LASSO, some attributes were sent to 0, which means they are not significant to the model (variable selection).\n",
        "\n",
        "The sign of each regression coefficient tells you whether there is a positive or negative correlation between the respective independent and  dependent variable. The most significant regressors for the outcome variable, lpsa, are lcavol (positive correlation), lweight (positive correlation), age (negative correlation), svi (postiive correlation), and gleason (positive correlation)."
      ]
    }
  ]
}